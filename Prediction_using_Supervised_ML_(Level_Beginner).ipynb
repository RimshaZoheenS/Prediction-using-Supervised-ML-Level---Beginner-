{
  "nbformat": 4,
  "nbformat_minor": 0,
  "metadata": {
    "colab": {
      "name": "Prediction using Supervised ML (Level - Beginner).ipynb",
      "provenance": [],
      "collapsed_sections": [],
      "authorship_tag": "ABX9TyMZhfJSdGB9Csq9eFd+oVZd"
    },
    "kernelspec": {
      "name": "python3",
      "display_name": "Python 3"
    },
    "language_info": {
      "name": "python"
    }
  },
  "cells": [
    {
      "cell_type": "markdown",
      "metadata": {
        "id": "sox6NJA1yzN0"
      },
      "source": [
        "# **AUTHOR: RIMSHA ZOHEEN SYED** "
      ]
    },
    {
      "cell_type": "markdown",
      "metadata": {
        "id": "B-9L374F9wnk"
      },
      "source": [
        " *#GRIP #GRIPMAY'21 #DSBA*"
      ]
    },
    {
      "cell_type": "markdown",
      "metadata": {
        "id": "fqsZ84_JzukA"
      },
      "source": [
        "# **TASK #1**\n",
        "\n",
        "**Prediction using Supervised ML (Level - Beginner)**\n",
        "\n",
        "Predict the percentage of an student based on the no. of study hours."
      ]
    },
    {
      "cell_type": "markdown",
      "metadata": {
        "id": "Hey7ty5_5zux"
      },
      "source": [
        "**IMPORT LIBRARY**"
      ]
    },
    {
      "cell_type": "code",
      "metadata": {
        "id": "5rm9Ao7qsBUU"
      },
      "source": [
        "import numpy as np\n",
        "import pandas as pd\n",
        "import seaborn as sns\n",
        "\n",
        "from matplotlib import pyplot as plt\n",
        "from sklearn.model_selection import train_test_split\n",
        "from sklearn.linear_model import LinearRegression\n",
        "from sklearn.metrics import mean_squared_error, mean_absolute_error"
      ],
      "execution_count": null,
      "outputs": []
    },
    {
      "cell_type": "markdown",
      "metadata": {
        "id": "GxsqUOUZzTdq"
      },
      "source": [
        "**IMPORTING DATA**\n",
        "\n",
        "Data can be found at \n",
        "http://bit.ly/w-data"
      ]
    },
    {
      "cell_type": "code",
      "metadata": {
        "colab": {
          "base_uri": "https://localhost:8080/"
        },
        "id": "JwQUcIgQzLJU",
        "outputId": "2105fd4e-f0e1-443a-b6f9-71155c47f480"
      },
      "source": [
        "data = pd.read_csv(\"http://bit.ly/w-data\")\n",
        "print(\"DATA IMPORT SUCCESFUL\")"
      ],
      "execution_count": null,
      "outputs": [
        {
          "output_type": "stream",
          "text": [
            "DATA IMPORT SUCCESFUL\n"
          ],
          "name": "stdout"
        }
      ]
    },
    {
      "cell_type": "markdown",
      "metadata": {
        "id": "rne3J64U0TsS"
      },
      "source": [
        "**INSPECTING DATA**"
      ]
    },
    {
      "cell_type": "code",
      "metadata": {
        "colab": {
          "base_uri": "https://localhost:8080/",
          "height": 359
        },
        "id": "8fDtkUpT6kZa",
        "outputId": "9cb29d4a-51d6-44d4-8dfd-866432dc1cf9"
      },
      "source": [
        "data.head(10)"
      ],
      "execution_count": null,
      "outputs": [
        {
          "output_type": "execute_result",
          "data": {
            "text/html": [
              "<div>\n",
              "<style scoped>\n",
              "    .dataframe tbody tr th:only-of-type {\n",
              "        vertical-align: middle;\n",
              "    }\n",
              "\n",
              "    .dataframe tbody tr th {\n",
              "        vertical-align: top;\n",
              "    }\n",
              "\n",
              "    .dataframe thead th {\n",
              "        text-align: right;\n",
              "    }\n",
              "</style>\n",
              "<table border=\"1\" class=\"dataframe\">\n",
              "  <thead>\n",
              "    <tr style=\"text-align: right;\">\n",
              "      <th></th>\n",
              "      <th>Hours</th>\n",
              "      <th>Scores</th>\n",
              "    </tr>\n",
              "  </thead>\n",
              "  <tbody>\n",
              "    <tr>\n",
              "      <th>0</th>\n",
              "      <td>2.5</td>\n",
              "      <td>21</td>\n",
              "    </tr>\n",
              "    <tr>\n",
              "      <th>1</th>\n",
              "      <td>5.1</td>\n",
              "      <td>47</td>\n",
              "    </tr>\n",
              "    <tr>\n",
              "      <th>2</th>\n",
              "      <td>3.2</td>\n",
              "      <td>27</td>\n",
              "    </tr>\n",
              "    <tr>\n",
              "      <th>3</th>\n",
              "      <td>8.5</td>\n",
              "      <td>75</td>\n",
              "    </tr>\n",
              "    <tr>\n",
              "      <th>4</th>\n",
              "      <td>3.5</td>\n",
              "      <td>30</td>\n",
              "    </tr>\n",
              "    <tr>\n",
              "      <th>5</th>\n",
              "      <td>1.5</td>\n",
              "      <td>20</td>\n",
              "    </tr>\n",
              "    <tr>\n",
              "      <th>6</th>\n",
              "      <td>9.2</td>\n",
              "      <td>88</td>\n",
              "    </tr>\n",
              "    <tr>\n",
              "      <th>7</th>\n",
              "      <td>5.5</td>\n",
              "      <td>60</td>\n",
              "    </tr>\n",
              "    <tr>\n",
              "      <th>8</th>\n",
              "      <td>8.3</td>\n",
              "      <td>81</td>\n",
              "    </tr>\n",
              "    <tr>\n",
              "      <th>9</th>\n",
              "      <td>2.7</td>\n",
              "      <td>25</td>\n",
              "    </tr>\n",
              "  </tbody>\n",
              "</table>\n",
              "</div>"
            ],
            "text/plain": [
              "   Hours  Scores\n",
              "0    2.5      21\n",
              "1    5.1      47\n",
              "2    3.2      27\n",
              "3    8.5      75\n",
              "4    3.5      30\n",
              "5    1.5      20\n",
              "6    9.2      88\n",
              "7    5.5      60\n",
              "8    8.3      81\n",
              "9    2.7      25"
            ]
          },
          "metadata": {
            "tags": []
          },
          "execution_count": 12
        }
      ]
    },
    {
      "cell_type": "code",
      "metadata": {
        "colab": {
          "base_uri": "https://localhost:8080/",
          "height": 359
        },
        "id": "XGfMvd8G6s2U",
        "outputId": "5c2b4ad9-41eb-4ba0-ee0a-1dc24268def5"
      },
      "source": [
        "data.tail(10)"
      ],
      "execution_count": null,
      "outputs": [
        {
          "output_type": "execute_result",
          "data": {
            "text/html": [
              "<div>\n",
              "<style scoped>\n",
              "    .dataframe tbody tr th:only-of-type {\n",
              "        vertical-align: middle;\n",
              "    }\n",
              "\n",
              "    .dataframe tbody tr th {\n",
              "        vertical-align: top;\n",
              "    }\n",
              "\n",
              "    .dataframe thead th {\n",
              "        text-align: right;\n",
              "    }\n",
              "</style>\n",
              "<table border=\"1\" class=\"dataframe\">\n",
              "  <thead>\n",
              "    <tr style=\"text-align: right;\">\n",
              "      <th></th>\n",
              "      <th>Hours</th>\n",
              "      <th>Scores</th>\n",
              "    </tr>\n",
              "  </thead>\n",
              "  <tbody>\n",
              "    <tr>\n",
              "      <th>15</th>\n",
              "      <td>8.9</td>\n",
              "      <td>95</td>\n",
              "    </tr>\n",
              "    <tr>\n",
              "      <th>16</th>\n",
              "      <td>2.5</td>\n",
              "      <td>30</td>\n",
              "    </tr>\n",
              "    <tr>\n",
              "      <th>17</th>\n",
              "      <td>1.9</td>\n",
              "      <td>24</td>\n",
              "    </tr>\n",
              "    <tr>\n",
              "      <th>18</th>\n",
              "      <td>6.1</td>\n",
              "      <td>67</td>\n",
              "    </tr>\n",
              "    <tr>\n",
              "      <th>19</th>\n",
              "      <td>7.4</td>\n",
              "      <td>69</td>\n",
              "    </tr>\n",
              "    <tr>\n",
              "      <th>20</th>\n",
              "      <td>2.7</td>\n",
              "      <td>30</td>\n",
              "    </tr>\n",
              "    <tr>\n",
              "      <th>21</th>\n",
              "      <td>4.8</td>\n",
              "      <td>54</td>\n",
              "    </tr>\n",
              "    <tr>\n",
              "      <th>22</th>\n",
              "      <td>3.8</td>\n",
              "      <td>35</td>\n",
              "    </tr>\n",
              "    <tr>\n",
              "      <th>23</th>\n",
              "      <td>6.9</td>\n",
              "      <td>76</td>\n",
              "    </tr>\n",
              "    <tr>\n",
              "      <th>24</th>\n",
              "      <td>7.8</td>\n",
              "      <td>86</td>\n",
              "    </tr>\n",
              "  </tbody>\n",
              "</table>\n",
              "</div>"
            ],
            "text/plain": [
              "    Hours  Scores\n",
              "15    8.9      95\n",
              "16    2.5      30\n",
              "17    1.9      24\n",
              "18    6.1      67\n",
              "19    7.4      69\n",
              "20    2.7      30\n",
              "21    4.8      54\n",
              "22    3.8      35\n",
              "23    6.9      76\n",
              "24    7.8      86"
            ]
          },
          "metadata": {
            "tags": []
          },
          "execution_count": 13
        }
      ]
    },
    {
      "cell_type": "code",
      "metadata": {
        "colab": {
          "base_uri": "https://localhost:8080/",
          "height": 297
        },
        "id": "mjSQBLqo0Q4R",
        "outputId": "b50cde53-c747-41b5-e8d3-3a607eb05936"
      },
      "source": [
        "data.describe()"
      ],
      "execution_count": null,
      "outputs": [
        {
          "output_type": "execute_result",
          "data": {
            "text/html": [
              "<div>\n",
              "<style scoped>\n",
              "    .dataframe tbody tr th:only-of-type {\n",
              "        vertical-align: middle;\n",
              "    }\n",
              "\n",
              "    .dataframe tbody tr th {\n",
              "        vertical-align: top;\n",
              "    }\n",
              "\n",
              "    .dataframe thead th {\n",
              "        text-align: right;\n",
              "    }\n",
              "</style>\n",
              "<table border=\"1\" class=\"dataframe\">\n",
              "  <thead>\n",
              "    <tr style=\"text-align: right;\">\n",
              "      <th></th>\n",
              "      <th>Hours</th>\n",
              "      <th>Scores</th>\n",
              "    </tr>\n",
              "  </thead>\n",
              "  <tbody>\n",
              "    <tr>\n",
              "      <th>count</th>\n",
              "      <td>25.000000</td>\n",
              "      <td>25.000000</td>\n",
              "    </tr>\n",
              "    <tr>\n",
              "      <th>mean</th>\n",
              "      <td>5.012000</td>\n",
              "      <td>51.480000</td>\n",
              "    </tr>\n",
              "    <tr>\n",
              "      <th>std</th>\n",
              "      <td>2.525094</td>\n",
              "      <td>25.286887</td>\n",
              "    </tr>\n",
              "    <tr>\n",
              "      <th>min</th>\n",
              "      <td>1.100000</td>\n",
              "      <td>17.000000</td>\n",
              "    </tr>\n",
              "    <tr>\n",
              "      <th>25%</th>\n",
              "      <td>2.700000</td>\n",
              "      <td>30.000000</td>\n",
              "    </tr>\n",
              "    <tr>\n",
              "      <th>50%</th>\n",
              "      <td>4.800000</td>\n",
              "      <td>47.000000</td>\n",
              "    </tr>\n",
              "    <tr>\n",
              "      <th>75%</th>\n",
              "      <td>7.400000</td>\n",
              "      <td>75.000000</td>\n",
              "    </tr>\n",
              "    <tr>\n",
              "      <th>max</th>\n",
              "      <td>9.200000</td>\n",
              "      <td>95.000000</td>\n",
              "    </tr>\n",
              "  </tbody>\n",
              "</table>\n",
              "</div>"
            ],
            "text/plain": [
              "           Hours     Scores\n",
              "count  25.000000  25.000000\n",
              "mean    5.012000  51.480000\n",
              "std     2.525094  25.286887\n",
              "min     1.100000  17.000000\n",
              "25%     2.700000  30.000000\n",
              "50%     4.800000  47.000000\n",
              "75%     7.400000  75.000000\n",
              "max     9.200000  95.000000"
            ]
          },
          "metadata": {
            "tags": []
          },
          "execution_count": 14
        }
      ]
    },
    {
      "cell_type": "code",
      "metadata": {
        "colab": {
          "base_uri": "https://localhost:8080/"
        },
        "id": "mFfAH7wH0z3l",
        "outputId": "20ac23bf-37c1-4685-f73e-aeba7806b758"
      },
      "source": [
        "data.info()"
      ],
      "execution_count": null,
      "outputs": [
        {
          "output_type": "stream",
          "text": [
            "<class 'pandas.core.frame.DataFrame'>\n",
            "RangeIndex: 25 entries, 0 to 24\n",
            "Data columns (total 2 columns):\n",
            " #   Column  Non-Null Count  Dtype  \n",
            "---  ------  --------------  -----  \n",
            " 0   Hours   25 non-null     float64\n",
            " 1   Scores  25 non-null     int64  \n",
            "dtypes: float64(1), int64(1)\n",
            "memory usage: 528.0 bytes\n"
          ],
          "name": "stdout"
        }
      ]
    },
    {
      "cell_type": "markdown",
      "metadata": {
        "id": "i5rI3Vp60-xu"
      },
      "source": [
        "**DATA VISULATZATION**"
      ]
    },
    {
      "cell_type": "code",
      "metadata": {
        "colab": {
          "base_uri": "https://localhost:8080/",
          "height": 296
        },
        "id": "UaKGernI09zi",
        "outputId": "eea10c71-1a4a-4621-9427-ee0c2edd136d"
      },
      "source": [
        "sns.scatterplot( x=\"Hours\", y=\"Scores\", data = data )"
      ],
      "execution_count": null,
      "outputs": [
        {
          "output_type": "execute_result",
          "data": {
            "text/plain": [
              "<matplotlib.axes._subplots.AxesSubplot at 0x7f677a6477d0>"
            ]
          },
          "metadata": {
            "tags": []
          },
          "execution_count": 16
        },
        {
          "output_type": "display_data",
          "data": {
            "image/png": "[encoded data removed]",
            "text/plain": [
              "<Figure size 432x288 with 1 Axes>"
            ]
          },
          "metadata": {
            "tags": [],
            "needs_background": "light"
          }
        }
      ]
    },
    {
      "cell_type": "markdown",
      "metadata": {
        "id": "jEFXtQfR6TDT"
      },
      "source": [
        "**RESHAPING DATA INTO ATTRIBUTES AND LABELS**"
      ]
    },
    {
      "cell_type": "code",
      "metadata": {
        "id": "hz0sWqYf5vbx",
        "colab": {
          "base_uri": "https://localhost:8080/"
        },
        "outputId": "ec7a0e2a-09eb-4461-d1e3-5a25733be81f"
      },
      "source": [
        "x = data['Hours'].values.reshape(-1, 1)\n",
        "y = data['Scores'].values.reshape(-1,1)\n",
        "print(*x,sep='\\t')\n",
        "print(*y, sep='\\t')"
      ],
      "execution_count": null,
      "outputs": [
        {
          "output_type": "stream",
          "text": [
            "[2.5]\t[5.1]\t[3.2]\t[8.5]\t[3.5]\t[1.5]\t[9.2]\t[5.5]\t[8.3]\t[2.7]\t[7.7]\t[5.9]\t[4.5]\t[3.3]\t[1.1]\t[8.9]\t[2.5]\t[1.9]\t[6.1]\t[7.4]\t[2.7]\t[4.8]\t[3.8]\t[6.9]\t[7.8]\n",
            "[21]\t[47]\t[27]\t[75]\t[30]\t[20]\t[88]\t[60]\t[81]\t[25]\t[85]\t[62]\t[41]\t[42]\t[17]\t[95]\t[30]\t[24]\t[67]\t[69]\t[30]\t[54]\t[35]\t[76]\t[86]\n"
          ],
          "name": "stdout"
        }
      ]
    },
    {
      "cell_type": "code",
      "metadata": {
        "id": "vbafJw8h9kTC",
        "colab": {
          "base_uri": "https://localhost:8080/"
        },
        "outputId": "6e5120a9-fc6a-44c2-8580-b2bb55fd3a3a"
      },
      "source": [
        "x_train, x_test, y_train, y_test = train_test_split(x, y, train_size=0.9, random_state=99)\n",
        "print(\"training done\")"
      ],
      "execution_count": null,
      "outputs": [
        {
          "output_type": "stream",
          "text": [
            "training done\n"
          ],
          "name": "stdout"
        }
      ]
    },
    {
      "cell_type": "code",
      "metadata": {
        "colab": {
          "base_uri": "https://localhost:8080/"
        },
        "id": "S0TYSg8IwNtk",
        "outputId": "f58e1d33-850a-433c-a313-9841435c6272"
      },
      "source": [
        "print(\"x_train vals\",*x_train, sep='\\t')\n",
        "print(\"x_test vals \",*x_test, sep='\\t')\n",
        "print(\"y_train vals\",*y_train,sep='\\t') \n",
        "print(\"y_test vals \",*y_test, sep='\\t')"
      ],
      "execution_count": null,
      "outputs": [
        {
          "output_type": "stream",
          "text": [
            "x_train vals\t[2.7]\t[4.8]\t[3.2]\t[7.4]\t[3.3]\t[9.2]\t[2.5]\t[5.9]\t[2.5]\t[8.9]\t[6.9]\t[1.1]\t[5.5]\t[7.8]\t[1.5]\t[3.5]\t[6.1]\t[3.8]\t[2.7]\t[8.3]\t[8.5]\t[5.1]\n",
            "x_test vals \t[7.7]\t[1.9]\t[4.5]\n",
            "y_train vals\t[30]\t[54]\t[27]\t[69]\t[42]\t[88]\t[21]\t[62]\t[30]\t[95]\t[76]\t[17]\t[60]\t[86]\t[20]\t[30]\t[67]\t[35]\t[25]\t[81]\t[75]\t[47]\n",
            "y_test vals \t[85]\t[24]\t[41]\n"
          ],
          "name": "stdout"
        }
      ]
    },
    {
      "cell_type": "markdown",
      "metadata": {
        "id": "ccI7PaW3_jPx"
      },
      "source": [
        "**LINEAR REGRESSION**"
      ]
    },
    {
      "cell_type": "code",
      "metadata": {
        "id": "etaznxNX_oCp",
        "colab": {
          "base_uri": "https://localhost:8080/"
        },
        "outputId": "4da4adfe-7e48-4663-9951-a360299b493d"
      },
      "source": [
        "reg= LinearRegression()\n",
        "reg.fit(x_train, y_train)"
      ],
      "execution_count": null,
      "outputs": [
        {
          "output_type": "execute_result",
          "data": {
            "text/plain": [
              "LinearRegression(copy_X=True, fit_intercept=True, n_jobs=None, normalize=False)"
            ]
          },
          "metadata": {
            "tags": []
          },
          "execution_count": 20
        }
      ]
    },
    {
      "cell_type": "code",
      "metadata": {
        "colab": {
          "base_uri": "https://localhost:8080/"
        },
        "id": "pqScvhpvB6OC",
        "outputId": "fd4c43cd-9f4f-4d88-ff1e-8df303bc2bd1"
      },
      "source": [
        "line = reg.coef_ * x_train + reg.intercept_\n",
        "print(\"line creation succesful\")"
      ],
      "execution_count": null,
      "outputs": [
        {
          "output_type": "stream",
          "text": [
            "line creation succesful\n"
          ],
          "name": "stdout"
        }
      ]
    },
    {
      "cell_type": "code",
      "metadata": {
        "colab": {
          "base_uri": "https://localhost:8080/",
          "height": 265
        },
        "id": "-aZS8zhqCtrM",
        "outputId": "d00487d2-830e-4c85-f67c-0a5769c6e3f0"
      },
      "source": [
        "plt.scatter(x_train, y_train)\n",
        "plt.plot(x_train,line)\n",
        "plt.show()"
      ],
      "execution_count": null,
      "outputs": [
        {
          "output_type": "display_data",
          "data": {
            "image/png": "[encoded data removed]",
            "text/plain": [
              "<Figure size 432x288 with 1 Axes>"
            ]
          },
          "metadata": {
            "tags": [],
            "needs_background": "light"
          }
        }
      ]
    },
    {
      "cell_type": "markdown",
      "metadata": {
        "id": "DEZRFIKuD16Y"
      },
      "source": [
        "**COMPARISION OF ACTUAL VS PREDICTED VALUES**"
      ]
    },
    {
      "cell_type": "code",
      "metadata": {
        "colab": {
          "base_uri": "https://localhost:8080/"
        },
        "id": "jJ90kGunvLB3",
        "outputId": "c59809f0-f33d-41cf-8161-3015aadd4747"
      },
      "source": [
        "train_pred = reg.predict(x_train)\n",
        "print(\"x_train   \", *x_train, sep='\\t\\t')\n",
        "print(\"train_pred\", *train_pred, sep='\\t')"
      ],
      "execution_count": null,
      "outputs": [
        {
          "output_type": "stream",
          "text": [
            "x_train   \t\t[2.7]\t\t[4.8]\t\t[3.2]\t\t[7.4]\t\t[3.3]\t\t[9.2]\t\t[2.5]\t\t[5.9]\t\t[2.5]\t\t[8.9]\t\t[6.9]\t\t[1.1]\t\t[5.5]\t\t[7.8]\t\t[1.5]\t\t[3.5]\t\t[6.1]\t\t[3.8]\t\t[2.7]\t\t[8.3]\t\t[8.5]\t\t[5.1]\n",
            "train_pred\t[28.88813623]\t[49.21763635]\t[33.7284934]\t[74.38749364]\t[34.69656483]\t[91.81277946]\t[26.95199336]\t[59.86642213]\t[26.95199336]\t[88.90856516]\t[69.54713647]\t[13.39899328]\t[55.99413639]\t[78.25977938]\t[17.27127902]\t[36.6327077]\t[61.802565]\t[39.53692201]\t[28.88813623]\t[83.10013655]\t[85.03627942]\t[52.12185065]\n"
          ],
          "name": "stdout"
        }
      ]
    },
    {
      "cell_type": "code",
      "metadata": {
        "colab": {
          "base_uri": "https://localhost:8080/"
        },
        "id": "kZp3grocv-Vh",
        "outputId": "1a1bc21e-ab60-4898-d5b5-49597fdf09ca"
      },
      "source": [
        "test_pred = reg.predict(x_test)\n",
        "print(\"x_test vals\", *x_test, sep='\\t\\t')\n",
        "print(\"test_pred  \", *test_pred, sep='\\t')"
      ],
      "execution_count": null,
      "outputs": [
        {
          "output_type": "stream",
          "text": [
            "x_test vals\t\t[7.7]\t\t[1.9]\t\t[4.5]\n",
            "test_pred  \t[77.29170794]\t[21.14356475]\t[46.31342205]\n"
          ],
          "name": "stdout"
        }
      ]
    },
    {
      "cell_type": "code",
      "metadata": {
        "colab": {
          "base_uri": "https://localhost:8080/"
        },
        "id": "ViEqGptUz5Ga",
        "outputId": "019bf7b0-5708-417a-d49f-fb1831fe9ca7"
      },
      "source": [
        "vals = pd.DataFrame({'Actual': np.squeeze(y_test), 'Predicted': np.squeeze(test_pred)})\n",
        "print(vals)"
      ],
      "execution_count": null,
      "outputs": [
        {
          "output_type": "stream",
          "text": [
            "   Actual  Predicted\n",
            "0      85  77.291708\n",
            "1      24  21.143565\n",
            "2      41  46.313422\n"
          ],
          "name": "stdout"
        }
      ]
    },
    {
      "cell_type": "markdown",
      "metadata": {
        "id": "q3ry31Mu6oO2"
      },
      "source": [
        "**TESTING**\n",
        "\n",
        "What will be predicted score if a student studies for 9.25 hrs/ day?"
      ]
    },
    {
      "cell_type": "code",
      "metadata": {
        "colab": {
          "base_uri": "https://localhost:8080/"
        },
        "id": "FX4G_BUB1Tsf",
        "outputId": "c3e4f94e-c1ad-4931-ef92-a93ea2317d83"
      },
      "source": [
        "hours = np.array([9.25]).reshape(-1, 1)\n",
        "score = np.squeeze(reg.predict(hours))\n",
        "\n",
        "print(f\"Score Gained is {score} for studying {np.squeeze(hours)} hours\")"
      ],
      "execution_count": null,
      "outputs": [
        {
          "output_type": "stream",
          "text": [
            "Score Gained is 92.29681517577447 for studying 9.25 hours\n"
          ],
          "name": "stdout"
        }
      ]
    },
    {
      "cell_type": "markdown",
      "metadata": {
        "id": "cvaGlgws72fj"
      },
      "source": [
        "**EVALUTAION / CONCLUSION**"
      ]
    },
    {
      "cell_type": "code",
      "metadata": {
        "colab": {
          "base_uri": "https://localhost:8080/"
        },
        "id": "hYgmM2ks78hy",
        "outputId": "06eb93f9-a1ad-425d-9a3d-da2385e631c5"
      },
      "source": [
        "print(f\"Mean Squared Error on train data is: {mean_squared_error(y_train, train_pred)}\")\n",
        "print(f\"Mean Squared Error on test data is:  {mean_squared_error(y_test, test_pred)}\")\n",
        "print()\n",
        "print(f\"Mean Absolute Error on train data is: {mean_absolute_error(y_train, train_pred)}\")\n",
        "print(f\"Mean Absolute Error on test data is:  {mean_absolute_error(y_test, test_pred)}\")"
      ],
      "execution_count": null,
      "outputs": [
        {
          "output_type": "stream",
          "text": [
            "Mean Squared Error on train data is: 28.579341907657252\n",
            "Mean Squared Error on test data is:  31.936480858325638\n",
            "\n",
            "Mean Absolute Error on train data is: 4.926981128860697\n",
            "Mean Absolute Error on test data is:  5.292716449347147\n"
          ],
          "name": "stdout"
        }
      ]
    },
    {
      "cell_type": "markdown",
      "metadata": {
        "id": "MT6BPnxtwXnp"
      },
      "source": [
        "##**#TASK1 COMPLETED**"
      ]
    }
  ]
}